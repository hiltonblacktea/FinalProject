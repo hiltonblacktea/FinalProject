{
 "cells": [
  {
   "cell_type": "code",
   "execution_count": 24,
   "metadata": {},
   "outputs": [],
   "source": [
    "import pandas as pd  \n",
    "import numpy as np  \n",
    "import matplotlib.pyplot as plt  \n",
    "%matplotlib inline\n",
    "from mpl_toolkits.mplot3d import Axes3D \n",
    "#匯入程式庫"
   ]
  },
  {
   "cell_type": "code",
   "execution_count": 25,
   "metadata": {},
   "outputs": [],
   "source": [
    "all_df = pd.read_excel(\"C:/Users/3c/Desktop/test123.xlsx\")#資料集\n",
    "#all_df = pd.read_excel(\"C:/Users/3c/Desktop/BEESoundMFCC/DataBase/BEESoundMFCC.xlsx\")#資料集"
   ]
  },
  {
   "cell_type": "code",
   "execution_count": 26,
   "metadata": {},
   "outputs": [
    {
     "data": {
      "text/plain": [
       "(588, 134)"
      ]
     },
     "execution_count": 26,
     "metadata": {},
     "output_type": "execute_result"
    }
   ],
   "source": [
    "all_df.shape  #行與列 第一行貌似不計算?"
   ]
  },
  {
   "cell_type": "code",
   "execution_count": 27,
   "metadata": {},
   "outputs": [
    {
     "data": {
      "text/html": [
       "<div>\n",
       "<style scoped>\n",
       "    .dataframe tbody tr th:only-of-type {\n",
       "        vertical-align: middle;\n",
       "    }\n",
       "\n",
       "    .dataframe tbody tr th {\n",
       "        vertical-align: top;\n",
       "    }\n",
       "\n",
       "    .dataframe thead th {\n",
       "        text-align: right;\n",
       "    }\n",
       "</style>\n",
       "<table border=\"1\" class=\"dataframe\">\n",
       "  <thead>\n",
       "    <tr style=\"text-align: right;\">\n",
       "      <th></th>\n",
       "      <th>Name</th>\n",
       "      <th>Hive</th>\n",
       "      <th>situation</th>\n",
       "      <th>0</th>\n",
       "      <th>5</th>\n",
       "      <th>10</th>\n",
       "      <th>16</th>\n",
       "      <th>21</th>\n",
       "      <th>26</th>\n",
       "      <th>32</th>\n",
       "      <th>...</th>\n",
       "      <th>651</th>\n",
       "      <th>656</th>\n",
       "      <th>662</th>\n",
       "      <th>667</th>\n",
       "      <th>672</th>\n",
       "      <th>678</th>\n",
       "      <th>683</th>\n",
       "      <th>689</th>\n",
       "      <th>694</th>\n",
       "      <th>699</th>\n",
       "    </tr>\n",
       "  </thead>\n",
       "  <tbody>\n",
       "    <tr>\n",
       "      <th>0</th>\n",
       "      <td>CF003-Active-Day-(214)__segment0</td>\n",
       "      <td>CF003</td>\n",
       "      <td>Active</td>\n",
       "      <td>0.002646</td>\n",
       "      <td>0.002907</td>\n",
       "      <td>0.004406</td>\n",
       "      <td>0.006780</td>\n",
       "      <td>0.009356</td>\n",
       "      <td>0.022236</td>\n",
       "      <td>0.040542</td>\n",
       "      <td>...</td>\n",
       "      <td>0.009609</td>\n",
       "      <td>0.010124</td>\n",
       "      <td>0.011213</td>\n",
       "      <td>0.011446</td>\n",
       "      <td>0.013078</td>\n",
       "      <td>0.015698</td>\n",
       "      <td>0.015959</td>\n",
       "      <td>0.016050</td>\n",
       "      <td>0.016606</td>\n",
       "      <td>0.017191</td>\n",
       "    </tr>\n",
       "    <tr>\n",
       "      <th>1</th>\n",
       "      <td>CF003-Active-Day-(214)__segment1</td>\n",
       "      <td>CF003</td>\n",
       "      <td>Active</td>\n",
       "      <td>0.001472</td>\n",
       "      <td>0.001662</td>\n",
       "      <td>0.002896</td>\n",
       "      <td>0.004911</td>\n",
       "      <td>0.009555</td>\n",
       "      <td>0.016962</td>\n",
       "      <td>0.027468</td>\n",
       "      <td>...</td>\n",
       "      <td>0.013305</td>\n",
       "      <td>0.015009</td>\n",
       "      <td>0.015548</td>\n",
       "      <td>0.015138</td>\n",
       "      <td>0.016861</td>\n",
       "      <td>0.018307</td>\n",
       "      <td>0.020014</td>\n",
       "      <td>0.019813</td>\n",
       "      <td>0.022878</td>\n",
       "      <td>0.023671</td>\n",
       "    </tr>\n",
       "    <tr>\n",
       "      <th>2</th>\n",
       "      <td>CF003-Active-Day-(214)__segment2</td>\n",
       "      <td>CF003</td>\n",
       "      <td>Active</td>\n",
       "      <td>0.004596</td>\n",
       "      <td>0.005824</td>\n",
       "      <td>0.009474</td>\n",
       "      <td>0.017472</td>\n",
       "      <td>0.036140</td>\n",
       "      <td>0.056778</td>\n",
       "      <td>0.086479</td>\n",
       "      <td>...</td>\n",
       "      <td>0.058500</td>\n",
       "      <td>0.065658</td>\n",
       "      <td>0.065303</td>\n",
       "      <td>0.077764</td>\n",
       "      <td>0.073391</td>\n",
       "      <td>0.087552</td>\n",
       "      <td>0.082318</td>\n",
       "      <td>0.099304</td>\n",
       "      <td>0.105709</td>\n",
       "      <td>0.104895</td>\n",
       "    </tr>\n",
       "    <tr>\n",
       "      <th>3</th>\n",
       "      <td>CF003-Active-Day-(214)__segment3</td>\n",
       "      <td>CF003</td>\n",
       "      <td>Active</td>\n",
       "      <td>0.007089</td>\n",
       "      <td>0.008062</td>\n",
       "      <td>0.013179</td>\n",
       "      <td>0.019902</td>\n",
       "      <td>0.042330</td>\n",
       "      <td>0.065887</td>\n",
       "      <td>0.115904</td>\n",
       "      <td>...</td>\n",
       "      <td>0.093800</td>\n",
       "      <td>0.096851</td>\n",
       "      <td>0.104217</td>\n",
       "      <td>0.131570</td>\n",
       "      <td>0.139930</td>\n",
       "      <td>0.152351</td>\n",
       "      <td>0.145682</td>\n",
       "      <td>0.151212</td>\n",
       "      <td>0.168438</td>\n",
       "      <td>0.172146</td>\n",
       "    </tr>\n",
       "    <tr>\n",
       "      <th>4</th>\n",
       "      <td>CF003-Active-Day-(214)__segment4</td>\n",
       "      <td>CF003</td>\n",
       "      <td>Active</td>\n",
       "      <td>0.007473</td>\n",
       "      <td>0.009021</td>\n",
       "      <td>0.016146</td>\n",
       "      <td>0.028829</td>\n",
       "      <td>0.055193</td>\n",
       "      <td>0.091079</td>\n",
       "      <td>0.115295</td>\n",
       "      <td>...</td>\n",
       "      <td>0.105640</td>\n",
       "      <td>0.110819</td>\n",
       "      <td>0.120574</td>\n",
       "      <td>0.134106</td>\n",
       "      <td>0.137403</td>\n",
       "      <td>0.160447</td>\n",
       "      <td>0.162396</td>\n",
       "      <td>0.188583</td>\n",
       "      <td>0.208554</td>\n",
       "      <td>0.208032</td>\n",
       "    </tr>\n",
       "  </tbody>\n",
       "</table>\n",
       "<p>5 rows × 134 columns</p>\n",
       "</div>"
      ],
      "text/plain": [
       "                               Name   Hive situation         0         5  \\\n",
       "0  CF003-Active-Day-(214)__segment0  CF003    Active  0.002646  0.002907   \n",
       "1  CF003-Active-Day-(214)__segment1  CF003    Active  0.001472  0.001662   \n",
       "2  CF003-Active-Day-(214)__segment2  CF003    Active  0.004596  0.005824   \n",
       "3  CF003-Active-Day-(214)__segment3  CF003    Active  0.007089  0.008062   \n",
       "4  CF003-Active-Day-(214)__segment4  CF003    Active  0.007473  0.009021   \n",
       "\n",
       "         10        16        21        26        32  ...       651       656  \\\n",
       "0  0.004406  0.006780  0.009356  0.022236  0.040542  ...  0.009609  0.010124   \n",
       "1  0.002896  0.004911  0.009555  0.016962  0.027468  ...  0.013305  0.015009   \n",
       "2  0.009474  0.017472  0.036140  0.056778  0.086479  ...  0.058500  0.065658   \n",
       "3  0.013179  0.019902  0.042330  0.065887  0.115904  ...  0.093800  0.096851   \n",
       "4  0.016146  0.028829  0.055193  0.091079  0.115295  ...  0.105640  0.110819   \n",
       "\n",
       "        662       667       672       678       683       689       694  \\\n",
       "0  0.011213  0.011446  0.013078  0.015698  0.015959  0.016050  0.016606   \n",
       "1  0.015548  0.015138  0.016861  0.018307  0.020014  0.019813  0.022878   \n",
       "2  0.065303  0.077764  0.073391  0.087552  0.082318  0.099304  0.105709   \n",
       "3  0.104217  0.131570  0.139930  0.152351  0.145682  0.151212  0.168438   \n",
       "4  0.120574  0.134106  0.137403  0.160447  0.162396  0.188583  0.208554   \n",
       "\n",
       "        699  \n",
       "0  0.017191  \n",
       "1  0.023671  \n",
       "2  0.104895  \n",
       "3  0.172146  \n",
       "4  0.208032  \n",
       "\n",
       "[5 rows x 134 columns]"
      ]
     },
     "execution_count": 27,
     "metadata": {},
     "output_type": "execute_result"
    }
   ],
   "source": [
    "all_df.head()  #顯示前5筆"
   ]
  },
  {
   "cell_type": "code",
   "execution_count": 30,
   "metadata": {},
   "outputs": [],
   "source": [
    "def PreprocessData(raw_df):                 #預處理函數程式設計\n",
    "    DataTable=raw_df                        #預留資料表\n",
    "    df=raw_df.drop(['Name','Hive'], axis=1) #移除不使用的列\n",
    "    df['situation']= df['situation'].map({'Active':0, 'MissingQueen': 1}).astype(int) #Label 文字轉數字\n",
    "    #df=raw_df.drop(['sample_name'], axis=1)\n",
    "    #df['label']= df['label'].map({'active':0, 'missing queen': 1}).astype(int)\n",
    "    #X = df.iloc[:,1:].values                #取得 所有行；第1列至20行(共20筆) 的資料\n",
    "    X = df.iloc[:,1:].values                #取得 所有行；第1列至20行(共20筆) 的資料\n",
    "    y = df.iloc[:,0].values                 #取得 所有行；第0列(共1筆) 的資料\n",
    "    return X,y,DataTable"
   ]
  },
  {
   "cell_type": "code",
   "execution_count": 31,
   "metadata": {},
   "outputs": [],
   "source": [
    "X,y,DataTable=PreprocessData(all_df) #預處理資料"
   ]
  },
  {
   "cell_type": "code",
   "execution_count": 32,
   "metadata": {},
   "outputs": [
    {
     "data": {
      "text/plain": [
       "\"\\n#顏色預覽\\ncm = plt.cm.get_cmap('Accent')  \\nxy = range(6)  \\nz = xy  \\nsc = plt.scatter(xy, xy, c=z, vmin=0, s=35, cmap=cm)  \\nplt.colorbar(sc)  \\nplt.show()\\n\""
      ]
     },
     "execution_count": 32,
     "metadata": {},
     "output_type": "execute_result"
    }
   ],
   "source": [
    "\"\"\"\n",
    "#顏色預覽\n",
    "cm = plt.cm.get_cmap('Accent')  \n",
    "xy = range(6)  \n",
    "z = xy  \n",
    "sc = plt.scatter(xy, xy, c=z, vmin=0, s=35, cmap=cm)  \n",
    "plt.colorbar(sc)  \n",
    "plt.show()\n",
    "\"\"\""
   ]
  },
  {
   "cell_type": "code",
   "execution_count": 33,
   "metadata": {},
   "outputs": [],
   "source": [
    "\n",
    "from sklearn.decomposition import PCA\n",
    "pca = PCA(n_components=2)\n",
    "#↑ 要留下的維度條件 int:要取得的維度數量；float:取得0-100% 影響比例；None為全部讀取\n",
    "X_train = pca.fit_transform(X)\n",
    "#↑ pca 特徵向量運算\n",
    "explained_variance = pca.explained_variance_ratio_\n",
    "#↑ 計算特徵向量的影響百分比\n"
   ]
  },
  {
   "cell_type": "code",
   "execution_count": 34,
   "metadata": {},
   "outputs": [
    {
     "name": "stdout",
     "output_type": "stream",
     "text": [
      "588 588\n"
     ]
    },
    {
     "data": {
      "text/plain": [
       "array([0.233, 0.177])"
      ]
     },
     "execution_count": 34,
     "metadata": {},
     "output_type": "execute_result"
    }
   ],
   "source": [
    "\n",
    "# 顯示降維的方差百分比，取小數前3位\n",
    "print(len(X_train),len(y))\n",
    "np.around(explained_variance, decimals=3)\n"
   ]
  },
  {
   "cell_type": "code",
   "execution_count": 35,
   "metadata": {},
   "outputs": [
    {
     "data": {
      "text/plain": [
       "2"
      ]
     },
     "execution_count": 35,
     "metadata": {},
     "output_type": "execute_result"
    }
   ],
   "source": [
    "\n",
    "# 顯示運算後的維度數量\n",
    "len(explained_variance)\n"
   ]
  },
  {
   "cell_type": "code",
   "execution_count": 36,
   "metadata": {},
   "outputs": [],
   "source": [
    "#explained_variance"
   ]
  },
  {
   "cell_type": "code",
   "execution_count": 37,
   "metadata": {},
   "outputs": [
    {
     "data": {
      "image/png": "[encoded data removed]",
      "text/plain": [
       "<Figure size 576x432 with 1 Axes>"
      ]
     },
     "metadata": {
      "needs_background": "light"
     },
     "output_type": "display_data"
    }
   ],
   "source": [
    "\n",
    "# 2D Plot\n",
    "plt.figure(2, figsize=(8, 6))\n",
    "plt.clf()\n",
    "# Plot the training points\n",
    "plt.scatter(X_train[:, 0], X_train[:, 1], c=y,\n",
    "           cmap=plt.cm.Accent, edgecolor='k', s=100)\n",
    "plt.xlabel('pc1')\n",
    "plt.ylabel('pc2')\n",
    "plt.show()\n"
   ]
  },
  {
   "cell_type": "code",
   "execution_count": 38,
   "metadata": {},
   "outputs": [
    {
     "data": {
      "text/plain": [
       "'\\n# 3D Plot\\nfig = plt.figure(1, figsize=(8, 6))\\nax = Axes3D(fig, elev=-150, azim=110)\\nax.scatter(X_train[:, 0], X_train[:, 1], X_train[:, 2], c=y,\\n           cmap=plt.cm.Accent, edgecolor=\\'k\\', s=100)\\nax.set_title(\"First three PCA directions\")\\nax.set_xlabel(\"1st eigenvector\")\\nax.set_ylabel(\"2nd eigenvector\")\\nax.set_zlabel(\"3rd eigenvector\")\\nplt.show()\\n'"
      ]
     },
     "execution_count": 38,
     "metadata": {},
     "output_type": "execute_result"
    }
   ],
   "source": [
    "\"\"\"\n",
    "# 3D Plot\n",
    "fig = plt.figure(1, figsize=(8, 6))\n",
    "ax = Axes3D(fig, elev=-150, azim=110)\n",
    "ax.scatter(X_train[:, 0], X_train[:, 1], X_train[:, 2], c=y,\n",
    "           cmap=plt.cm.Accent, edgecolor='k', s=100)\n",
    "ax.set_title(\"First three PCA directions\")\n",
    "ax.set_xlabel(\"1st eigenvector\")\n",
    "ax.set_ylabel(\"2nd eigenvector\")\n",
    "ax.set_zlabel(\"3rd eigenvector\")\n",
    "plt.show()\n",
    "\"\"\""
   ]
  },
  {
   "cell_type": "code",
   "execution_count": 39,
   "metadata": {},
   "outputs": [
    {
     "data": {
      "text/plain": [
       "\"\\nimport csv\\nwith open('test'+'.csv', 'w', newline='') as csvfile:\\n    writer = csv.writer(csvfile)\\n    a = np.array(cols) #自訂標籤\\n    b = np.hstack((DataTable,X_train)) #左右合併\\n    c = np.vstack((a,b)) #上下合併\\n    for i in range(c.shape[0]):\\n        Dhat = c[i]\\n        writer.writerow(Dhat)\\n\""
      ]
     },
     "execution_count": 39,
     "metadata": {},
     "output_type": "execute_result"
    }
   ],
   "source": [
    "\"\"\"\n",
    "import csv\n",
    "with open('test'+'.csv', 'w', newline='') as csvfile:\n",
    "    writer = csv.writer(csvfile)\n",
    "    a = np.array(cols) #自訂標籤\n",
    "    b = np.hstack((DataTable,X_train)) #左右合併\n",
    "    c = np.vstack((a,b)) #上下合併\n",
    "    for i in range(c.shape[0]):\n",
    "        Dhat = c[i]\n",
    "        writer.writerow(Dhat)\n",
    "\"\"\""
   ]
  },
  {
   "cell_type": "code",
   "execution_count": 40,
   "metadata": {},
   "outputs": [],
   "source": [
    "from sklearn.model_selection import train_test_split\n",
    "X_train, X_test, y_train, y_test, trainDf, testDF = train_test_split(X,y,DataTable, test_size = 0.2)\n",
    "#資料集切割 分成 隨機切割成 訓練與測試資料(比例 80：20 )"
   ]
  },
  {
   "cell_type": "code",
   "execution_count": 41,
   "metadata": {
    "scrolled": true
   },
   "outputs": [
    {
     "data": {
      "text/plain": [
       "SVC(C=1.0, cache_size=200, class_weight=None, coef0=0.0,\n",
       "    decision_function_shape='ovr', degree=3, gamma='auto_deprecated',\n",
       "    kernel='linear', max_iter=-1, probability=True, random_state=None,\n",
       "    shrinking=True, tol=0.001, verbose=False)"
      ]
     },
     "execution_count": 41,
     "metadata": {},
     "output_type": "execute_result"
    }
   ],
   "source": [
    "from sklearn.svm import SVC  \n",
    "svclassifier = SVC(kernel='linear',probability = True)  \n",
    "svclassifier.fit(X_train, y_train)  \n",
    "#SVM 模型訓練 "
   ]
  },
  {
   "cell_type": "code",
   "execution_count": 42,
   "metadata": {},
   "outputs": [
    {
     "data": {
      "text/plain": [
       "array([1, 1, 0, 1, 1, 1, 1, 1, 0, 0, 0, 0, 1, 0, 0, 0, 1, 1, 1, 0, 0, 0,\n",
       "       1, 0, 1, 0, 0, 1, 1, 0, 0, 0, 1, 0, 1, 1, 1, 0, 0, 1, 1, 0, 0, 1,\n",
       "       0, 1, 0, 1, 0, 1, 0, 0, 1, 1, 0, 0, 0, 0, 0, 1, 1, 0, 0, 1, 1, 1,\n",
       "       1, 0, 0, 1, 1, 1, 1, 1, 1, 1, 0, 1, 0, 1, 0, 0, 0, 1, 0, 0, 1, 0,\n",
       "       1, 0, 1, 0, 0, 1, 1, 0, 1, 1, 0, 1, 1, 0, 0, 1, 1, 0, 0, 0, 1, 1,\n",
       "       0, 0, 0, 1, 1, 0, 0, 0])"
      ]
     },
     "execution_count": 42,
     "metadata": {},
     "output_type": "execute_result"
    }
   ],
   "source": [
    "y_pred = svclassifier.predict(X_test)  # SVM預測\n",
    "y_pred"
   ]
  },
  {
   "cell_type": "code",
   "execution_count": 43,
   "metadata": {},
   "outputs": [],
   "source": [
    "from sklearn.metrics import roc_curve,auc,precision_recall_curve,average_precision_score\n",
    "from sklearn.model_selection import learning_curve"
   ]
  },
  {
   "cell_type": "code",
   "execution_count": 44,
   "metadata": {},
   "outputs": [
    {
     "name": "stdout",
     "output_type": "stream",
     "text": [
      "[[54  5]\n",
      " [ 6 53]]\n",
      "              precision    recall  f1-score   support\n",
      "\n",
      "           0       0.90      0.92      0.91        59\n",
      "           1       0.91      0.90      0.91        59\n",
      "\n",
      "    accuracy                           0.91       118\n",
      "   macro avg       0.91      0.91      0.91       118\n",
      "weighted avg       0.91      0.91      0.91       118\n",
      "\n"
     ]
    }
   ],
   "source": [
    "from sklearn.metrics import classification_report, confusion_matrix   #顯示結果與混淆矩陣\n",
    "print(confusion_matrix(y_test,y_pred))  \n",
    "print(classification_report(y_test,y_pred))  \n",
    "\n"
   ]
  },
  {
   "cell_type": "code",
   "execution_count": 45,
   "metadata": {},
   "outputs": [
    {
     "data": {
      "text/plain": [
       "Text(0.5, 0, 'false_positive_rate')"
      ]
     },
     "execution_count": 45,
     "metadata": {},
     "output_type": "execute_result"
    },
    {
     "data": {
      "image/png": "[encoded data removed]",
      "text/plain": [
       "<Figure size 432x288 with 1 Axes>"
      ]
     },
     "metadata": {
      "needs_background": "light"
     },
     "output_type": "display_data"
    }
   ],
   "source": [
    "#ROC曲線跟AUC\n",
    "\n",
    "#AUC即是ROC曲線下半部的面積，AUC主要用於衡量二分類問題中機器學習演算法效能或者泛化能力。\n",
    "\n",
    "# y_pro:第 i 个预测样本为某个标签的概率，并且每一行的概率和为1。\n",
    "y_pro=svclassifier.predict_proba(X_test)\n",
    "\n",
    "false_positive_rate,recall,thresholds=roc_curve(y_test,y_pro[:,1])\n",
    "\n",
    "roc_auc=auc(false_positive_rate,recall)\n",
    "\n",
    "ax3 = plt.subplot()\n",
    "\n",
    "ax3.set_title(\"Receiver Operating Characteristic\",verticalalignment='center')\n",
    "\n",
    "plt.plot(false_positive_rate,recall,'b',label='AUC=%0.2f'%roc_auc)\n",
    "\n",
    "plt.legend(loc='lower right')\n",
    "\n",
    "plt.plot([0,1],[0,1],'r--')\n",
    "\n",
    "plt.xlim([0.0,1.0])\n",
    "\n",
    "plt.ylim([0.0,1.0])\n",
    "\n",
    "plt.ylabel('Recall')\n",
    "\n",
    "plt.xlabel('false_positive_rate')\n"
   ]
  },
  {
   "cell_type": "code",
   "execution_count": 46,
   "metadata": {},
   "outputs": [
    {
     "data": {
      "text/plain": [
       "Text(0.5, 0, 'Recall')"
      ]
     },
     "execution_count": 46,
     "metadata": {},
     "output_type": "execute_result"
    },
    {
     "data": {
      "image/png": "[encoded data removed]",
      "text/plain": [
       "<Figure size 432x288 with 1 Axes>"
      ]
     },
     "metadata": {
      "needs_background": "light"
     },
     "output_type": "display_data"
    }
   ],
   "source": [
    "#PR曲線，由精確率和召回率的點連成的線，橫軸為Recall ,縱軸為Precision，在PR曲線中越右上凸越好，PR想要Precision 和Recall同時高\n",
    "\n",
    "average_precision = average_precision_score(y_test, y_pro[:, 1])\n",
    "\n",
    "precision,recall,thresholds=precision_recall_curve(y_test,y_pro[:,1])\n",
    "\n",
    "ax2 = plt.subplot()\n",
    "\n",
    "ax2.set_title(\"Precision_Recall Curve AP=%0.2f\"%average_precision,verticalalignment='center')\n",
    "\n",
    "plt.step(precision, recall,where='post',alpha=1,color='orange')\n",
    "\n",
    "plt.fill_between(recall,precision,step='post',alpha=0.2,color='b')\n",
    "\n",
    "plt.xlim([0.0, 1.0])\n",
    "\n",
    "plt.ylim([0.0, 1.05])\n",
    "\n",
    "plt.ylabel('Precision')\n",
    "\n",
    "plt.xlabel('Recall')\n"
   ]
  },
  {
   "cell_type": "code",
   "execution_count": 47,
   "metadata": {},
   "outputs": [
    {
     "data": {
      "text/plain": [
       "array([1, 1, 0, 1, 1, 1, 1, 1, 0, 0, 0, 0, 1, 0, 0, 0, 1, 1, 1, 0, 0, 0,\n",
       "       1, 0, 1, 0, 0, 1, 1, 0, 0, 0, 1, 0, 1, 1, 1, 0, 0, 1, 1, 0, 0, 1,\n",
       "       0, 1, 0, 1, 0, 1, 0, 0, 1, 1, 0, 0, 0, 0, 0, 1, 1, 0, 0, 1, 1, 1,\n",
       "       1, 0, 0, 1, 1, 1, 1, 1, 1, 1, 0, 1, 0, 1, 0, 0, 0, 1, 0, 0, 1, 0,\n",
       "       1, 0, 1, 0, 0, 1, 1, 0, 1, 1, 0, 1, 1, 0, 0, 1, 1, 0, 0, 0, 1, 1,\n",
       "       0, 0, 0, 1, 1, 0, 0, 0])"
      ]
     },
     "execution_count": 47,
     "metadata": {},
     "output_type": "execute_result"
    }
   ],
   "source": [
    "y_pred #預測結果"
   ]
  },
  {
   "cell_type": "code",
   "execution_count": 48,
   "metadata": {},
   "outputs": [
    {
     "data": {
      "text/plain": [
       "array([1, 1, 0, 1, 1, 1, 1, 1, 0, 0, 0, 1, 1, 0, 0, 0, 1, 1, 0, 0, 0, 1,\n",
       "       1, 0, 1, 0, 0, 1, 1, 0, 0, 0, 1, 0, 0, 1, 1, 0, 0, 1, 0, 0, 0, 1,\n",
       "       0, 1, 0, 1, 0, 1, 1, 1, 1, 1, 0, 0, 0, 0, 0, 1, 1, 0, 0, 1, 1, 1,\n",
       "       1, 0, 0, 1, 1, 1, 0, 1, 1, 1, 0, 1, 0, 1, 0, 0, 0, 1, 0, 0, 1, 0,\n",
       "       1, 0, 1, 0, 0, 1, 1, 0, 1, 1, 0, 1, 0, 0, 0, 1, 1, 0, 1, 0, 1, 1,\n",
       "       0, 1, 0, 1, 1, 0, 0, 0])"
      ]
     },
     "execution_count": 48,
     "metadata": {},
     "output_type": "execute_result"
    }
   ],
   "source": [
    "y_test #原本結果"
   ]
  },
  {
   "cell_type": "code",
   "execution_count": null,
   "metadata": {},
   "outputs": [],
   "source": []
  },
  {
   "cell_type": "code",
   "execution_count": null,
   "metadata": {},
   "outputs": [],
   "source": []
  },
  {
   "cell_type": "code",
   "execution_count": null,
   "metadata": {},
   "outputs": [],
   "source": []
  },
  {
   "cell_type": "code",
   "execution_count": null,
   "metadata": {},
   "outputs": [],
   "source": [
    "#dfLP = pd.DataFrame({'label':y_test, 'predict':y_pred})"
   ]
  },
  {
   "cell_type": "code",
   "execution_count": null,
   "metadata": {},
   "outputs": [],
   "source": [
    "#dfLP[(dfLP.label!=dfLP.predict)]"
   ]
  },
  {
   "cell_type": "code",
   "execution_count": null,
   "metadata": {},
   "outputs": [],
   "source": [
    "#DataTable[6:7]"
   ]
  },
  {
   "cell_type": "code",
   "execution_count": null,
   "metadata": {},
   "outputs": [],
   "source": [
    "#繪圖\n",
    "\n",
    "def plot_point(X_train,y_train,Support_vector_index,W,b):\n",
    "    for i in range(np.shape(X_train)[0]):\n",
    "        if y_train[i] == 1:\n",
    "            plt.scatter(X_train[i][0],X_train[i][1],c='b',s=20)\n",
    "        else:\n",
    "            plt.scatter(X_train[i][0],X_train[i][1],c='y',s=20)\n",
    "    \n",
    "    for j in Support_vector_index:\n",
    "        plt.scatter(X_train[j][0],X_train[j][1], s=100, c = '', alpha=0.5, linewidth=1.5, edgecolor='red')\n",
    " \n",
    "    x = np.arange(0,10,0.01)\n",
    "    y = (W[0][0]*x+b)/(-1*W[0][1])\n",
    "    plt.scatter(x,y,s=5,marker = 'h')\n",
    "    plt.show()\n",
    "\n",
    "def plot_svc_decision_function(svclassifier, ax=None, plot_support=True):\n",
    "    \"\"\"Plot the decision function for a 2D SVC\"\"\"\n",
    "    if ax is None:\n",
    "        ax = plt.gca()\n",
    "    xlim = ax.get_xlim()\n",
    "    ylim = ax.get_ylim()\n",
    "    \n",
    "    # create grid to evaluate model\n",
    "    x = np.linspace(xlim[0], xlim[1], 30)\n",
    "    y = np.linspace(ylim[0], ylim[1], 30)\n",
    "    Y, X = np.meshgrid(y, x)  \n",
    "    xy = np.vstack([X.ravel(), Y.ravel()]).T\n",
    "    P = svclassifier.decision_function(xy).reshape(X.shape)\n",
    "    \n",
    "    # plot decision boundary and margins\n",
    "    ax.contour(X, Y, P, colors='k',\n",
    "               levels=[-1, 0, 1], alpha=0.5,\n",
    "               linestyles=['--', '-', '--'])\n",
    "    \n",
    "    # plot support vectors\n",
    "    if plot_support:\n",
    "        ax.scatter(svclassifier.support_vectors_[:, 0],\n",
    "                   svclassifier.support_vectors_[:, 1],\n",
    "                   s=300, linewidth=1, facecolors='black');\n",
    "    ax.set_xlim(xlim)\n",
    "    ax.set_ylim(ylim)\n",
    "plt.figure(figsize = (10,8))\n",
    "plt.scatter(X[:, 0], X[:, 1], c=y, s=50, cmap='autumn')\n",
    "plot_svc_decision_function(svclassifier)\n",
    "\"\"\""
   ]
  },
  {
   "cell_type": "code",
   "execution_count": null,
   "metadata": {},
   "outputs": [],
   "source": [
    "\"\"\"\n",
    "n_Support_vector = svclassifier.n_support_#支持向量个数\n",
    "Support_vector_index = svclassifier.support_#支持向量索引\n",
    "W = svclassifier.coef_#方向向量W\n",
    "b =  svclassifier.intercept_#截距项b\n",
    " \n",
    "    #绘制分类超平面\n",
    "plot_point(X_train,y_train,Support_vector_index,W,b)\n",
    "\"\"\"\n",
    "\n",
    "\n",
    "\n",
    "\n",
    "\n"
   ]
  },
  {
   "cell_type": "code",
   "execution_count": null,
   "metadata": {},
   "outputs": [],
   "source": []
  },
  {
   "cell_type": "code",
   "execution_count": null,
   "metadata": {},
   "outputs": [],
   "source": []
  },
  {
   "cell_type": "code",
   "execution_count": null,
   "metadata": {},
   "outputs": [],
   "source": []
  }
 ],
 "metadata": {
  "kernelspec": {
   "display_name": "Python 3",
   "language": "python",
   "name": "python3"
  },
  "language_info": {
   "codemirror_mode": {
    "name": "ipython",
    "version": 3
   },
   "file_extension": ".py",
   "mimetype": "text/x-python",
   "name": "python",
   "nbconvert_exporter": "python",
   "pygments_lexer": "ipython3",
   "version": "3.6.8"
  }
 },
 "nbformat": 4,
 "nbformat_minor": 2
}
